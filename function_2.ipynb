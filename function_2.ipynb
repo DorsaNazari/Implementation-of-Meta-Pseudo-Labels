{
 "cells": [
  {
   "cell_type": "code",
   "execution_count": null,
   "metadata": {},
   "outputs": [],
   "source": [
    "import tensorflow as tf\n",
    "import matplotlib.pyplot as plt\n",
    "from typing import Union\n",
    "\n",
    "def visualize(ds, grid_size=(1,1), pdf_name:Union[str, None]=None):\n",
    "    \"\"\"\n",
    "    Visualize the first n samples of the dataset. If grid_size has 0, nothing is done.\n",
    "\n",
    "    Args:\n",
    "        ds (tf.data.Dataset): Dataset to visualize.\n",
    "        grid_size (tuple, optional): Size of the grid to plot the samples. Defaults to (1,1).\n",
    "        pdf_name (str, optional): Name of the pdf file to save the plot. Defaults to None.\n",
    "    \"\"\"\n",
    "    \n",
    "    if 0 in grid_size:\n",
    "        return\n",
    "    \n",
    "    n = grid_size[0] * grid_size[1]\n",
    "\n",
    "    plt.figure(figsize=(12, 12))\n",
    "    for i, (X, y) in enumerate(ds.take(n)):\n",
    "        image = X\n",
    "        label = y\n",
    "        plt.subplot(*grid_size, i+1)\n",
    "        plt.title(f'Label: {label}')\n",
    "        plt.axis('off')\n",
    "        plt.imshow(image)\n",
    "    if pdf_name:\n",
    "        plt.savefig(pdf_name)\n",
    "    plt.show()\n",
    "\n",
    "\n",
    "def filter_fn(example, chosen_labels_ids):\n",
    "    \"\"\"\n",
    "    Filters the dataset to only include the chosen labels.\n",
    "\n",
    "    Args:\n",
    "        example (dict): Dictionary containing the image and the labels.\n",
    "        chosen_labels_ids (list): List of the chosen labels ids in cifar10 dataset.\n",
    "\n",
    "    Returns:\n",
    "        bool: True if the example contains one of the chosen labels, False otherwise.\n",
    "    \"\"\"\n",
    "\n",
    "    labels = example[\"label\"]\n",
    "    flags = [tf.reduce_any(tf.equal(labels, label)) for label in chosen_labels_ids]\n",
    "    return tf.reduce_any(flags)"
   ]
  }
 ],
 "metadata": {
  "language_info": {
   "name": "python"
  },
  "orig_nbformat": 4
 },
 "nbformat": 4,
 "nbformat_minor": 2
}
